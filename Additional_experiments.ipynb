{
 "cells": [
  {
   "cell_type": "markdown",
   "metadata": {},
   "source": [
    "# Additional experiments\n",
    "\n",
    "- Models:\n",
    "    - Logistic Regresion\n",
    "    - Random Forest\n",
    "    - Imbalanced bagging classifier\n",
    "- Feature selection:\n",
    "    - SelectFromModel (final feature selection used)\n",
    "    - RFE (Ranking Feature)"
   ]
  },
  {
   "cell_type": "markdown",
   "metadata": {},
   "source": [
    "## Import libraries"
   ]
  },
  {
   "cell_type": "code",
   "execution_count": 1,
   "metadata": {},
   "outputs": [
    {
     "name": "stdout",
     "output_type": "stream",
     "text": [
      "Populating the interactive namespace from numpy and matplotlib\n"
     ]
    }
   ],
   "source": [
    "# Data handling\n",
    "import pandas as pd\n",
    "import numpy as np\n",
    "\n",
    "# Stadistics\n",
    "from scipy.stats import chi2_contingency,mannwhitneyu, ttest_ind\n",
    "import statsmodels\n",
    "import statsmodels.api as sm\n",
    "\n",
    "# Machine Learning\n",
    "from sklearn.model_selection import RepeatedKFold\n",
    "from sklearn.metrics import roc_auc_score, precision_score, recall_score, confusion_matrix, roc_curve, f1_score\n",
    "from sklearn.linear_model import LogisticRegression\n",
    "from sklearn.ensemble import RandomForestClassifier\n",
    "from imblearn.ensemble import BalancedBaggingClassifier \n",
    "from sklearn.feature_selection import SelectFromModel\n",
    "from sklearn.feature_selection import RFE\n",
    "\n",
    "# Notebooks options\n",
    "%pylab inline\n",
    "pd.options.display.max_columns = None\n",
    "pd.set_option('display.max_rows', None)\n",
    "import warnings\n",
    "warnings.filterwarnings('ignore')"
   ]
  },
  {
   "cell_type": "markdown",
   "metadata": {},
   "source": [
    "## Load data\n"
   ]
  },
  {
   "cell_type": "code",
   "execution_count": 2,
   "metadata": {},
   "outputs": [
    {
     "data": {
      "text/plain": [
       "(1150, 265)"
      ]
     },
     "execution_count": 2,
     "metadata": {},
     "output_type": "execute_result"
    }
   ],
   "source": [
    "df = pd.read_excel(\"/home/ubuntu/TROMIA/data_proc/data_clean_final.xlsx\")\n",
    "df.shape"
   ]
  },
  {
   "cell_type": "markdown",
   "metadata": {},
   "source": [
    "## Model variables\n",
    "These variables have been chosen after a database cleaning and preprocessing process."
   ]
  },
  {
   "cell_type": "code",
   "execution_count": 3,
   "metadata": {},
   "outputs": [],
   "source": [
    "vars_model = ['age', 'gender', 'weight', 'height', 'bmi', 'bsa', 'hta', 'diabetes', 'smoking',\n",
    "              'fa_type_1.0', 'fa_type_2.0', 'atrial_flutter', 'priorstroke', 'priorhemorrhagicstroke',\n",
    "              'prior_tia', 'prior_systemic_embolization_all', 'prior_peripheral_embolization',\n",
    "              'prior_heart_failure', 'prior_vascular_disease', 'previous_cad', 'previous_mi',\n",
    "              'previous_pci', 'previous_cabg', 'prior_valvsurgery_description_grouped_1',\n",
    "              'prior_valvsurgery_description_grouped_2', 'prior_valvsurgery_description_grouped_3',\n",
    "              'chads2', 'chads2-vasc', 'has-bled', 'creatclcockroft_new', 'insuficiencia_renal_grave',\n",
    "              'prior_dialysis', 'liver_disease_clean', 'prior_bleeding_clean',\n",
    "              'priorbleeding_number_of_episodes', 'labile_inr_clean', 'alcohol',\n",
    "              'chronicnsaiduse', 'prior_high_risk_falls_clean', 'pre_aas', 'pre_adp_inhibitor',\n",
    "              'pre_coumadin_warfarin', 'pre_othersanticoag', 'pre_e_lvef', 'pre_severe_mitral_regurgitation',\n",
    "              'pre_severe_mitral_stenosis', 'procedure_anesthesia', 'procedural_tee', 'procedure_combined',\n",
    "              'procedure_reposition_(if_available)', 'procedure_rhythm', 'procedure_contrast',\n",
    "              'laa_morphology_comb_1.0', 'laa_morphology_comb_2.0', 'laa_morphology_comb_3.0',\n",
    "              'laa_morphology_comb_4.0', 'laa_morphology_comb_5.0', 'laa_closure_device_size',\n",
    "              'laa_closure_device_number', 'procedure_complications', 'pr_comp_other',\n",
    "              'pr_comp_major_bleeding', 'pr_comp_major_vascular_complications', 'pr_comp_device_embolization',\n",
    "              'pr_comp_cardiac_tamponade', 'h_days', 'h_stroke', 'h_systemic_embolism', 'h_pericardialefussion',\n",
    "              'h_dialysis', 'd_asa', 'd_adp_inhibitor', 'd_coumadin_warfarin', 'd_otheranticoag', 'd_enoxaparin',\n",
    "              'complete_occlusion']"
   ]
  },
  {
   "cell_type": "markdown",
   "metadata": {},
   "source": [
    "## Functions"
   ]
  },
  {
   "cell_type": "code",
   "execution_count": 4,
   "metadata": {},
   "outputs": [],
   "source": [
    "def specificity(y_true, y_pred):\n",
    "    '''calculate specificty\n",
    "    Args:\n",
    "        y_true: Array of the label to be predicted\n",
    "        y_pred: Array of the label predicted by the model\n",
    "    Returns:\n",
    "        Specificity\n",
    "    '''\n",
    "    tn, fp, fn, tp = confusion_matrix(y_true, y_pred).ravel()\n",
    "    return tn / (tn+fp)"
   ]
  },
  {
   "cell_type": "code",
   "execution_count": 5,
   "metadata": {},
   "outputs": [],
   "source": [
    "def experimentMLmethod(featureSelectionMethod,\n",
    "                       model_ml,\n",
    "                       gkf,\n",
    "                       df = df.copy(), \n",
    "                       vars_model = vars_model,\n",
    "                       endpoint = \"last_fu_tee_thrombus\"):\n",
    "    ''' Feature selection + Modeling by fold\n",
    "    Args:\n",
    "        featureSelectionMethod: method of feature selector\n",
    "        model_ml: model machine learning\n",
    "        gkf: generator k-fold\n",
    "        df: dataframe\n",
    "        vars_model: name os predictors var\n",
    "        endpoint: name of var to predict\n",
    "    Returns:\n",
    "        new_df = data frame with the results by k-fold\n",
    "    '''\n",
    "    \n",
    "    # Preprare data\n",
    "    inds = df[endpoint].isna() == False\n",
    "\n",
    "    X = df.loc[inds,vars_model]\n",
    "    Y = df.loc[inds,endpoint]\n",
    "\n",
    "    i = 0\n",
    "    results = {}\n",
    "\n",
    "    # Training for each k-fold\n",
    "    for train_index, test_index in gkf.split(X,Y):\n",
    "        i+=1\n",
    "        fold = '{} fold'.format(i)\n",
    "        result = {}\n",
    "        X_train, X_test = X.iloc[train_index], X.iloc[test_index]\n",
    "        Y_train, Y_test = Y.iloc[train_index], Y.iloc[test_index]\n",
    "\n",
    "        # Feature selection (SelectFromModel)\n",
    "        selector = featureSelectionMethod.fit(X_train, Y_train)\n",
    "        X_new = selector.transform(X)\n",
    "\n",
    "        X_train, X_test = X_new[train_index], X_new[test_index]\n",
    "\n",
    "        feature_mask = np.array(selector.get_support())\n",
    "        feature_names = np.array(X.columns.tolist())\n",
    "        selected_features = list(feature_names[feature_mask])\n",
    "\n",
    "        # Perform the training of the model\n",
    "        model = model_ml.fit(X_train, Y_train)\n",
    "        ## cut-off short\n",
    "        prtr = model.predict_proba(X_train)\n",
    "        fpr, tpr, thresholds = roc_curve(Y_train, prtr[:,1])\n",
    "        ROC_scores = []\n",
    "        for thresh in thresholds:\n",
    "            ROC_scores.append(roc_auc_score(Y_train, [m > thresh for m in prtr[:,1]]))\n",
    "\n",
    "        ROCs = np.array(ROC_scores)\n",
    "        max_ROC = ROCs.max() \n",
    "        pc =  thresholds[ROCs.argmax()]\n",
    "\n",
    "        result['feats'] = list(selector.get_feature_names_out())\n",
    "        try:\n",
    "            result['coefs'] = model.coef_[0]\n",
    "        except:\n",
    "            result['coefs'] = np.nan\n",
    "\n",
    "        preds = model.predict_proba(X_test)\n",
    "        try:\n",
    "            ## Results\n",
    "            result['ROC'] = roc_auc_score(Y_test, preds[:,1])\n",
    "            result['specificity'] = specificity(Y_test, np.array([1 if p>pc else 0 for p in preds[:,1]]))\n",
    "            result['sensitivity'] = recall_score(Y_test, np.array([1 if p>pc else 0 for p in preds[:,1]]))\n",
    "        except ValueError:\n",
    "            pass\n",
    "        results[fold] = result\n",
    "        \n",
    "    new_df = pd.DataFrame()\n",
    "    for k in results.keys():\n",
    "        df_temp = pd.DataFrame()\n",
    "        df_temp['fold'] = [int(\"\".join(filter(str.isdigit, k)))]*len(results[k]['feats'])\n",
    "        df_temp['feats'] = results[k]['feats']\n",
    "        df_temp['coefs'] = results[k]['coefs']\n",
    "        if 'ROC' in results[k].keys():\n",
    "            df_temp['ROC'] = [results[k]['ROC']]*len(results[k]['feats'])\n",
    "            df_temp['specificity'] = [results[k]['specificity']]*len(results[k]['feats'])\n",
    "            df_temp['sensitivity'] = [results[k]['sensitivity']]*len(results[k]['feats'])\n",
    "        else:\n",
    "            df_temp['ROC'] = [None]*len(results[k]['feats'])\n",
    "            df_temp['specificity'] = [None]*len(results[k]['feats'])\n",
    "            df_temp['sensitivity'] = [None]*len(results[k]['feats'])\n",
    "        new_df = pd.concat([new_df,df_temp])\n",
    "    return new_df"
   ]
  },
  {
   "cell_type": "markdown",
   "metadata": {},
   "source": [
    "## Experiments"
   ]
  },
  {
   "cell_type": "code",
   "execution_count": 6,
   "metadata": {},
   "outputs": [],
   "source": [
    "cvfolds = 2\n",
    "rep = 5\n",
    "seed = 0\n",
    "\n",
    "endpoint = \"last_fu_tee_thrombus\"\n",
    "\n",
    "# generator k-fold\n",
    "gkf = RepeatedKFold(n_splits= cvfolds, n_repeats= rep, random_state= seed)"
   ]
  },
  {
   "cell_type": "markdown",
   "metadata": {},
   "source": [
    "### Experiment IV\n",
    "Model: **Logistic Regresion**  \n",
    "Feature selection: **Select From Model**"
   ]
  },
  {
   "cell_type": "code",
   "execution_count": 7,
   "metadata": {},
   "outputs": [],
   "source": [
    "# Generate the LR with a fixed seed\n",
    "lr = LogisticRegression(class_weight=\"auto\",random_state=seed, C=1.75)\n",
    "# Feature selection\n",
    "featureSelectionMethod = SelectFromModel(estimator=lr)\n",
    "\n",
    "# Experiment IV\n",
    "df_KFOLD_ExpIV = experimentMLmethod(featureSelectionMethod = featureSelectionMethod, \n",
    "                                   model_ml = lr,\n",
    "                                   gkf = gkf)"
   ]
  },
  {
   "cell_type": "code",
   "execution_count": 8,
   "metadata": {},
   "outputs": [
    {
     "name": "stdout",
     "output_type": "stream",
     "text": [
      "AUC:\t\t 0.5325048793233625 ± 0.03493085393122986\n",
      "sensitivity:\t 0.28035204918164286 ± 0.07707287614858943\n",
      "specificity:\t 0.7634286134994225 ± 0.05176101563325354\n"
     ]
    }
   ],
   "source": [
    "print('AUC:\\t\\t',df_KFOLD_ExpIV['ROC'].mean(), '±', df_KFOLD_ExpIV['ROC'].std())\n",
    "print('sensitivity:\\t',df_KFOLD_ExpIV['sensitivity'].mean(), '±', df_KFOLD_ExpIV['sensitivity'].std())\n",
    "print('specificity:\\t',df_KFOLD_ExpIV['specificity'].mean(), '±', df_KFOLD_ExpIV['specificity'].std())"
   ]
  },
  {
   "cell_type": "markdown",
   "metadata": {},
   "source": [
    "### Experiment V\n",
    "Model: **Logistic Regresion**  \n",
    "Feature selection: **RFE**"
   ]
  },
  {
   "cell_type": "code",
   "execution_count": 9,
   "metadata": {},
   "outputs": [],
   "source": [
    "# Generate the LR with a fixed seed\n",
    "lr = LogisticRegression(class_weight=\"auto\",random_state=seed, C=1.75)\n",
    "# Feature selection\n",
    "featureSelectionMethod = RFE(estimator=lr, )\n",
    "\n",
    "# Experiment V\n",
    "df_KFOLD_ExpV = experimentMLmethod(featureSelectionMethod = featureSelectionMethod, \n",
    "                                   model_ml = lr,\n",
    "                                   gkf = gkf)"
   ]
  },
  {
   "cell_type": "code",
   "execution_count": 10,
   "metadata": {},
   "outputs": [
    {
     "name": "stdout",
     "output_type": "stream",
     "text": [
      "AUC:\t\t 0.5274065823848352 ± 0.026172201643472226\n",
      "sensitivity:\t 0.1606302521008403 ± 0.10119488447369068\n",
      "specificity:\t 0.8125560150001486 ± 0.06139524479854509\n"
     ]
    }
   ],
   "source": [
    "print('AUC:\\t\\t',df_KFOLD_ExpV['ROC'].mean(), '±', df_KFOLD_ExpV['ROC'].std())\n",
    "print('sensitivity:\\t',df_KFOLD_ExpV['sensitivity'].mean(), '±', df_KFOLD_ExpV['sensitivity'].std())\n",
    "print('specificity:\\t',df_KFOLD_ExpV['specificity'].mean(), '±', df_KFOLD_ExpV['specificity'].std())"
   ]
  },
  {
   "cell_type": "markdown",
   "metadata": {},
   "source": [
    "### Experiment VI\n",
    "Model: **Random Forest**  \n",
    "Feature selection: **Select From Model**"
   ]
  },
  {
   "cell_type": "code",
   "execution_count": 11,
   "metadata": {},
   "outputs": [],
   "source": [
    "# Generate the RF with a fixed seed\n",
    "rf = RandomForestClassifier()\n",
    "# Feature selection\n",
    "featureSelectionMethod = SelectFromModel(estimator=rf, )\n",
    "\n",
    "# Experiment VI\n",
    "df_KFOLD_ExpVI = experimentMLmethod(featureSelectionMethod = featureSelectionMethod, \n",
    "                                   model_ml = rf,\n",
    "                                   gkf = gkf)"
   ]
  },
  {
   "cell_type": "code",
   "execution_count": 12,
   "metadata": {},
   "outputs": [
    {
     "name": "stdout",
     "output_type": "stream",
     "text": [
      "AUC:\t\t 0.4157303810590389 ± 0.05807137988651967\n",
      "sensitivity:\t 0.0273567329905358 ± 0.027464489871399603\n",
      "specificity:\t 0.9030806413696075 ± 0.02207370324530736\n"
     ]
    }
   ],
   "source": [
    "print('AUC:\\t\\t',df_KFOLD_ExpVI['ROC'].mean(), '±', df_KFOLD_ExpVI['ROC'].std())\n",
    "print('sensitivity:\\t',df_KFOLD_ExpVI['sensitivity'].mean(), '±', df_KFOLD_ExpVI['sensitivity'].std())\n",
    "print('specificity:\\t',df_KFOLD_ExpVI['specificity'].mean(), '±', df_KFOLD_ExpVI['specificity'].std())"
   ]
  },
  {
   "cell_type": "markdown",
   "metadata": {},
   "source": [
    "### Experiment VII\n",
    "Model: **Random Forest**  \n",
    "Feature selection: **RFE**"
   ]
  },
  {
   "cell_type": "code",
   "execution_count": 13,
   "metadata": {},
   "outputs": [],
   "source": [
    "# Generate the RF with a fixed seed\n",
    "rf = RandomForestClassifier()\n",
    "# Feature selection\n",
    "featureSelectionMethod = RFE(estimator=rf, )\n",
    "\n",
    "# Experiment VII\n",
    "df_KFOLD_ExpVII = experimentMLmethod(featureSelectionMethod = featureSelectionMethod, \n",
    "                                   model_ml = rf,\n",
    "                                   gkf = gkf)"
   ]
  },
  {
   "cell_type": "code",
   "execution_count": 14,
   "metadata": {},
   "outputs": [
    {
     "name": "stdout",
     "output_type": "stream",
     "text": [
      "AUC:\t\t 0.47545187023649715 ± 0.07107261957499394\n",
      "sensitivity:\t 0.050961718020541544 ± 0.06144089185910559\n",
      "specificity:\t 0.9130765172332662 ± 0.02874075243001848\n"
     ]
    }
   ],
   "source": [
    "print('AUC:\\t\\t',df_KFOLD_ExpVII['ROC'].mean(), '±', df_KFOLD_ExpVII['ROC'].std())\n",
    "print('sensitivity:\\t',df_KFOLD_ExpVII['sensitivity'].mean(), '±', df_KFOLD_ExpVII['sensitivity'].std())\n",
    "print('specificity:\\t',df_KFOLD_ExpVII['specificity'].mean(), '±', df_KFOLD_ExpVII['specificity'].std())"
   ]
  },
  {
   "cell_type": "markdown",
   "metadata": {},
   "source": [
    "### Experiment VIII\n",
    "Model: **Balanced Bagging Classifier**  \n",
    "Feature selection: **Select From Model**"
   ]
  },
  {
   "cell_type": "code",
   "execution_count": 15,
   "metadata": {},
   "outputs": [],
   "source": [
    "# Generate the LR y BBC with a fixed seed\n",
    "lr = LogisticRegression(class_weight=\"auto\",random_state=seed, C=1.75)\n",
    "bbc = BalancedBaggingClassifier(random_state=seed)\n",
    "\n",
    "# Feature selection\n",
    "featureSelectionMethod = SelectFromModel(estimator=lr, )\n",
    "\n",
    "# Experiment VIII\n",
    "df_KFOLD_ExpVIII = experimentMLmethod(featureSelectionMethod = featureSelectionMethod, \n",
    "                                   model_ml = bbc,\n",
    "                                   gkf = gkf)"
   ]
  },
  {
   "cell_type": "code",
   "execution_count": 16,
   "metadata": {},
   "outputs": [
    {
     "name": "stdout",
     "output_type": "stream",
     "text": [
      "AUC:\t\t 0.5311312919941665 ± 0.05731413301655689\n",
      "sensitivity:\t 0.18695986985859636 ± 0.09611166893396776\n",
      "specificity:\t 0.8500080687209852 ± 0.06876877508222827\n"
     ]
    }
   ],
   "source": [
    "print('AUC:\\t\\t',df_KFOLD_ExpVIII['ROC'].mean(), '±', df_KFOLD_ExpVIII['ROC'].std())\n",
    "print('sensitivity:\\t',df_KFOLD_ExpVIII['sensitivity'].mean(), '±', df_KFOLD_ExpVIII['sensitivity'].std())\n",
    "print('specificity:\\t',df_KFOLD_ExpVIII['specificity'].mean(), '±', df_KFOLD_ExpVIII['specificity'].std())"
   ]
  },
  {
   "cell_type": "markdown",
   "metadata": {},
   "source": [
    "### Experiment IX\n",
    "Model: **Balanced Bagging Classifier**  \n",
    "Feature selection: **RFE**"
   ]
  },
  {
   "cell_type": "code",
   "execution_count": 17,
   "metadata": {},
   "outputs": [],
   "source": [
    "# Generate the LR y BBC with a fixed seed\n",
    "lr = LogisticRegression(class_weight=\"auto\",random_state=seed, C=1.75)\n",
    "bbc = BalancedBaggingClassifier(random_state=seed)\n",
    "\n",
    "# Feature selection\n",
    "featureSelectionMethod = RFE(estimator=lr, )\n",
    "\n",
    "# Experiment IX\n",
    "df_KFOLD_ExpIX = experimentMLmethod(featureSelectionMethod = featureSelectionMethod, \n",
    "                                   model_ml = bbc,\n",
    "                                   gkf = gkf)"
   ]
  },
  {
   "cell_type": "code",
   "execution_count": 18,
   "metadata": {},
   "outputs": [
    {
     "name": "stdout",
     "output_type": "stream",
     "text": [
      "AUC:\t\t 0.5027853202408172 ± 0.05949585770020268\n",
      "sensitivity:\t 0.1895798319327731 ± 0.15866304599082545\n",
      "specificity:\t 0.7961599879651461 ± 0.1082821820983072\n"
     ]
    }
   ],
   "source": [
    "print('AUC:\\t\\t',df_KFOLD_ExpIX['ROC'].mean(), '±', df_KFOLD_ExpIX['ROC'].std())\n",
    "print('sensitivity:\\t',df_KFOLD_ExpIX['sensitivity'].mean(), '±', df_KFOLD_ExpIX['sensitivity'].std())\n",
    "print('specificity:\\t',df_KFOLD_ExpIX['specificity'].mean(), '±', df_KFOLD_ExpIX['specificity'].std())"
   ]
  },
  {
   "cell_type": "code",
   "execution_count": null,
   "metadata": {},
   "outputs": [],
   "source": []
  }
 ],
 "metadata": {
  "kernelspec": {
   "display_name": "TromiaEnv",
   "language": "python",
   "name": "tromiaenv"
  },
  "language_info": {
   "codemirror_mode": {
    "name": "ipython",
    "version": 3
   },
   "file_extension": ".py",
   "mimetype": "text/x-python",
   "name": "python",
   "nbconvert_exporter": "python",
   "pygments_lexer": "ipython3",
   "version": "3.10.0"
  }
 },
 "nbformat": 4,
 "nbformat_minor": 2
}
